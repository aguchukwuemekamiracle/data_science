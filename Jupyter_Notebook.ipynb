{
 "cells": [
  {
   "cell_type": "markdown",
   "metadata": {},
   "source": [
    "<center>\n",
    "    <img src=\"https://cf-courses-data.s3.us.cloud-object-storage.appdomain.cloud/IBMDeveloperSkillsNetwork-DS0105EN-SkillsNetwork/labs/Module2/images/SN_web_lightmode.png\" width=\"300\" alt=\"cognitiveclass.ai logo\"  />\n",
    "</center>\n"
   ]
  },
  {
   "cell_type": "markdown",
   "metadata": {},
   "source": [
    "#### Add your code below following the instructions given in the course\n"
   ]
  },
  {
   "cell_type": "markdown",
   "metadata": {},
   "source": [
    "<H1>My Jupyter Notebook on IBM Watson Studio</H1>"
   ]
  },
  {
   "cell_type": "markdown",
   "metadata": {},
   "source": [
    "<b>Agu Chukwuemeka Miracle</b>\n",
    "<p>Data Analyst</p>"
   ]
  },
  {
   "cell_type": "markdown",
   "metadata": {},
   "source": [
    "<i> I am Interested in Data science because the place of data science can never be over emphaphise . My love for calculations and statistics brought me to the field while the future of data science and its relevance kept me</i>"
   ]
  },
  {
   "cell_type": "markdown",
   "metadata": {},
   "source": [
    "<H3> Simple mathematical calculation</H3>"
   ]
  },
  {
   "cell_type": "code",
   "execution_count": 1,
   "metadata": {},
   "outputs": [
    {
     "name": "stdout",
     "output_type": "stream",
     "text": [
      "1080\n"
     ]
    }
   ],
   "source": [
    "a = 20 * 54\n",
    "print(a)"
   ]
  },
  {
   "cell_type": "markdown",
   "metadata": {},
   "source": [
    "<ul>\n",
    "    <li>Bulleted list item 1</li>\n",
    "    <li>Bulleted list item 2</li>\n",
    "    <li>Bulleted list item 3</li>\n",
    "</ul>\n",
    "<ol>\n",
    "    <li>Numbered list item 1</li>\n",
    "    <li>Numbered list item 2</li>\n",
    "    <li>Numbered list item 3</li>\n",
    "</ol>\n",
    "<table>\n",
    "    <tr>\n",
    "        <th>Column 1</th>\n",
    "        <th>Column 2</th>\n",
    "        <th>Column 3</th>\n",
    "    </tr>\n",
    "    <tr>\n",
    "        <td>Data</td>\n",
    "        <td>Data</td>\n",
    "        <td>Data</td>\n",
    "    </tr>\n",
    "    <tr>\n",
    "        <td>Data</td>\n",
    "        <td>Data</td>\n",
    "        <td>Data</td>\n",
    "    </tr>\n",
    "</table>\n",
    "\n",
    "<a href=\"https://www.example.com\">Hyperlink</a>\n",
    "<img src=\"https://via.placeholder.com/150\" alt=\"image\">\n",
    "<blockquote>Blocked quote</blockquote>\n",
    "\n",
    "<del>Strikethrough</del>"
   ]
  },
  {
   "cell_type": "code",
   "execution_count": null,
   "metadata": {},
   "outputs": [],
   "source": []
  }
 ],
 "metadata": {
  "kernelspec": {
   "display_name": "Python",
   "language": "python",
   "name": "conda-env-python-py"
  },
  "language_info": {
   "codemirror_mode": {
    "name": "ipython",
    "version": 3
   },
   "file_extension": ".py",
   "mimetype": "text/x-python",
   "name": "python",
   "nbconvert_exporter": "python",
   "pygments_lexer": "ipython3",
   "version": "3.7.12"
  }
 },
 "nbformat": 4,
 "nbformat_minor": 4
}
